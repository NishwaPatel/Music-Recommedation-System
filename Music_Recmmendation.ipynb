{
 "cells": [
  {
   "cell_type": "code",
   "execution_count": 30,
   "id": "c22ac9a8",
   "metadata": {},
   "outputs": [],
   "source": [
    "import numpy as np"
   ]
  },
  {
   "cell_type": "code",
   "execution_count": 31,
   "id": "44546eba",
   "metadata": {},
   "outputs": [],
   "source": [
    "import pandas as pd"
   ]
  },
  {
   "cell_type": "code",
   "execution_count": 32,
   "id": "dd657b20",
   "metadata": {},
   "outputs": [],
   "source": [
    "ab = pd.read_csv(\"../song_5000.csv\")"
   ]
  },
  {
   "cell_type": "code",
   "execution_count": 33,
   "id": "1ea023fc",
   "metadata": {},
   "outputs": [
    {
     "data": {
      "text/html": [
       "<div>\n",
       "<style scoped>\n",
       "    .dataframe tbody tr th:only-of-type {\n",
       "        vertical-align: middle;\n",
       "    }\n",
       "\n",
       "    .dataframe tbody tr th {\n",
       "        vertical-align: top;\n",
       "    }\n",
       "\n",
       "    .dataframe thead th {\n",
       "        text-align: right;\n",
       "    }\n",
       "</style>\n",
       "<table border=\"1\" class=\"dataframe\">\n",
       "  <thead>\n",
       "    <tr style=\"text-align: right;\">\n",
       "      <th></th>\n",
       "      <th>Unnamed: 0</th>\n",
       "      <th>artist</th>\n",
       "      <th>song</th>\n",
       "      <th>text</th>\n",
       "    </tr>\n",
       "  </thead>\n",
       "  <tbody>\n",
       "    <tr>\n",
       "      <th>0</th>\n",
       "      <td>0</td>\n",
       "      <td>Lionel Richie</td>\n",
       "      <td>Just To Be Close To You</td>\n",
       "      <td>Just to be close to you, girl  \\nJust for a mo...</td>\n",
       "    </tr>\n",
       "    <tr>\n",
       "      <th>1</th>\n",
       "      <td>1</td>\n",
       "      <td>Doobie Brothers</td>\n",
       "      <td>Rocking Horse</td>\n",
       "      <td>Take me back to an easy life,  \\nRobin Hood an...</td>\n",
       "    </tr>\n",
       "    <tr>\n",
       "      <th>2</th>\n",
       "      <td>2</td>\n",
       "      <td>Gordon Lightfoot</td>\n",
       "      <td>Summertime Dream</td>\n",
       "      <td>Where the road runs down but the butternut gro...</td>\n",
       "    </tr>\n",
       "    <tr>\n",
       "      <th>3</th>\n",
       "      <td>3</td>\n",
       "      <td>Tom Jones</td>\n",
       "      <td>Without Love</td>\n",
       "      <td>I awakened this morning, I was filled with des...</td>\n",
       "    </tr>\n",
       "    <tr>\n",
       "      <th>4</th>\n",
       "      <td>4</td>\n",
       "      <td>Electric Light Orchestra</td>\n",
       "      <td>The Words Of Aaron</td>\n",
       "      <td>Maybe the years have told you  \\nDo you rememb...</td>\n",
       "    </tr>\n",
       "    <tr>\n",
       "      <th>...</th>\n",
       "      <td>...</td>\n",
       "      <td>...</td>\n",
       "      <td>...</td>\n",
       "      <td>...</td>\n",
       "    </tr>\n",
       "    <tr>\n",
       "      <th>4995</th>\n",
       "      <td>4995</td>\n",
       "      <td>Etta James</td>\n",
       "      <td>Out Of The Rain</td>\n",
       "      <td>Out of the rain, under the shelter  \\nI've bee...</td>\n",
       "    </tr>\n",
       "    <tr>\n",
       "      <th>4996</th>\n",
       "      <td>4996</td>\n",
       "      <td>Nicki Minaj</td>\n",
       "      <td>All Things Go</td>\n",
       "      <td>[Verse 1]  \\nYo, I had to reinvent, I put the ...</td>\n",
       "    </tr>\n",
       "    <tr>\n",
       "      <th>4997</th>\n",
       "      <td>4997</td>\n",
       "      <td>Marillion</td>\n",
       "      <td>Tic-Tac-Toe</td>\n",
       "      <td>We are led by the light at the end of the tunn...</td>\n",
       "    </tr>\n",
       "    <tr>\n",
       "      <th>4998</th>\n",
       "      <td>4998</td>\n",
       "      <td>Green Day</td>\n",
       "      <td>Pulling Teeth</td>\n",
       "      <td>I'm all busted up  \\nBroken bones and nasty cu...</td>\n",
       "    </tr>\n",
       "    <tr>\n",
       "      <th>4999</th>\n",
       "      <td>4999</td>\n",
       "      <td>Lana Del Rey</td>\n",
       "      <td>I'm Indebited To You</td>\n",
       "      <td>What an unusual name you said  \\nWhat a specta...</td>\n",
       "    </tr>\n",
       "  </tbody>\n",
       "</table>\n",
       "<p>5000 rows × 4 columns</p>\n",
       "</div>"
      ],
      "text/plain": [
       "      Unnamed: 0                    artist                     song  \\\n",
       "0              0             Lionel Richie  Just To Be Close To You   \n",
       "1              1           Doobie Brothers            Rocking Horse   \n",
       "2              2          Gordon Lightfoot         Summertime Dream   \n",
       "3              3                 Tom Jones             Without Love   \n",
       "4              4  Electric Light Orchestra       The Words Of Aaron   \n",
       "...          ...                       ...                      ...   \n",
       "4995        4995                Etta James          Out Of The Rain   \n",
       "4996        4996               Nicki Minaj            All Things Go   \n",
       "4997        4997                 Marillion              Tic-Tac-Toe   \n",
       "4998        4998                 Green Day            Pulling Teeth   \n",
       "4999        4999              Lana Del Rey     I'm Indebited To You   \n",
       "\n",
       "                                                   text  \n",
       "0     Just to be close to you, girl  \\nJust for a mo...  \n",
       "1     Take me back to an easy life,  \\nRobin Hood an...  \n",
       "2     Where the road runs down but the butternut gro...  \n",
       "3     I awakened this morning, I was filled with des...  \n",
       "4     Maybe the years have told you  \\nDo you rememb...  \n",
       "...                                                 ...  \n",
       "4995  Out of the rain, under the shelter  \\nI've bee...  \n",
       "4996  [Verse 1]  \\nYo, I had to reinvent, I put the ...  \n",
       "4997  We are led by the light at the end of the tunn...  \n",
       "4998  I'm all busted up  \\nBroken bones and nasty cu...  \n",
       "4999  What an unusual name you said  \\nWhat a specta...  \n",
       "\n",
       "[5000 rows x 4 columns]"
      ]
     },
     "execution_count": 33,
     "metadata": {},
     "output_type": "execute_result"
    }
   ],
   "source": [
    "ab"
   ]
  },
  {
   "cell_type": "code",
   "execution_count": 34,
   "id": "6732d1a1",
   "metadata": {},
   "outputs": [
    {
     "data": {
      "text/plain": [
       "(5000, 4)"
      ]
     },
     "execution_count": 34,
     "metadata": {},
     "output_type": "execute_result"
    }
   ],
   "source": [
    "ab.shape"
   ]
  },
  {
   "cell_type": "code",
   "execution_count": 35,
   "id": "9dddc263",
   "metadata": {},
   "outputs": [
    {
     "data": {
      "text/html": [
       "<div>\n",
       "<style scoped>\n",
       "    .dataframe tbody tr th:only-of-type {\n",
       "        vertical-align: middle;\n",
       "    }\n",
       "\n",
       "    .dataframe tbody tr th {\n",
       "        vertical-align: top;\n",
       "    }\n",
       "\n",
       "    .dataframe thead th {\n",
       "        text-align: right;\n",
       "    }\n",
       "</style>\n",
       "<table border=\"1\" class=\"dataframe\">\n",
       "  <thead>\n",
       "    <tr style=\"text-align: right;\">\n",
       "      <th></th>\n",
       "      <th>Unnamed: 0</th>\n",
       "      <th>artist</th>\n",
       "      <th>song</th>\n",
       "      <th>text</th>\n",
       "    </tr>\n",
       "  </thead>\n",
       "  <tbody>\n",
       "    <tr>\n",
       "      <th>0</th>\n",
       "      <td>0</td>\n",
       "      <td>Lionel Richie</td>\n",
       "      <td>Just To Be Close To You</td>\n",
       "      <td>Just to be close to you, girl  \\nJust for a mo...</td>\n",
       "    </tr>\n",
       "    <tr>\n",
       "      <th>1</th>\n",
       "      <td>1</td>\n",
       "      <td>Doobie Brothers</td>\n",
       "      <td>Rocking Horse</td>\n",
       "      <td>Take me back to an easy life,  \\nRobin Hood an...</td>\n",
       "    </tr>\n",
       "    <tr>\n",
       "      <th>2</th>\n",
       "      <td>2</td>\n",
       "      <td>Gordon Lightfoot</td>\n",
       "      <td>Summertime Dream</td>\n",
       "      <td>Where the road runs down but the butternut gro...</td>\n",
       "    </tr>\n",
       "    <tr>\n",
       "      <th>3</th>\n",
       "      <td>3</td>\n",
       "      <td>Tom Jones</td>\n",
       "      <td>Without Love</td>\n",
       "      <td>I awakened this morning, I was filled with des...</td>\n",
       "    </tr>\n",
       "    <tr>\n",
       "      <th>4</th>\n",
       "      <td>4</td>\n",
       "      <td>Electric Light Orchestra</td>\n",
       "      <td>The Words Of Aaron</td>\n",
       "      <td>Maybe the years have told you  \\nDo you rememb...</td>\n",
       "    </tr>\n",
       "  </tbody>\n",
       "</table>\n",
       "</div>"
      ],
      "text/plain": [
       "   Unnamed: 0                    artist                     song  \\\n",
       "0           0             Lionel Richie  Just To Be Close To You   \n",
       "1           1           Doobie Brothers            Rocking Horse   \n",
       "2           2          Gordon Lightfoot         Summertime Dream   \n",
       "3           3                 Tom Jones             Without Love   \n",
       "4           4  Electric Light Orchestra       The Words Of Aaron   \n",
       "\n",
       "                                                text  \n",
       "0  Just to be close to you, girl  \\nJust for a mo...  \n",
       "1  Take me back to an easy life,  \\nRobin Hood an...  \n",
       "2  Where the road runs down but the butternut gro...  \n",
       "3  I awakened this morning, I was filled with des...  \n",
       "4  Maybe the years have told you  \\nDo you rememb...  "
      ]
     },
     "execution_count": 35,
     "metadata": {},
     "output_type": "execute_result"
    }
   ],
   "source": [
    "ab.head(5)"
   ]
  },
  {
   "cell_type": "code",
   "execution_count": 36,
   "id": "379a6809",
   "metadata": {},
   "outputs": [
    {
     "data": {
      "text/plain": [
       "0       Just To Be Close To You\n",
       "1                 Rocking Horse\n",
       "2              Summertime Dream\n",
       "3                  Without Love\n",
       "4            The Words Of Aaron\n",
       "                 ...           \n",
       "4995            Out Of The Rain\n",
       "4996              All Things Go\n",
       "4997                Tic-Tac-Toe\n",
       "4998              Pulling Teeth\n",
       "4999       I'm Indebited To You\n",
       "Name: song, Length: 5000, dtype: object"
      ]
     },
     "execution_count": 36,
     "metadata": {},
     "output_type": "execute_result"
    }
   ],
   "source": [
    "ab['song']"
   ]
  },
  {
   "cell_type": "code",
   "execution_count": 37,
   "id": "79d7185b",
   "metadata": {},
   "outputs": [
    {
     "data": {
      "text/plain": [
       "\"Just to be close to you, girl  \\nJust for a moment, well,  \\nJust for an hour  \\nJust to be close to you girl  \\n  \\nI was a lonely man  \\nA man with no direction  \\nWith no purpose  \\nWith no one to love  \\nAnd no one to love me, for me  \\n  \\nOh girl then you came into my life  \\nYou made my jagged edges smooth  \\nYou made my direction so clear  \\nAnd you oh women you became my purpose  \\nMy reason for living girl you see  \\n  \\nYou're my heart, you're my soul  \\nYou're my strong inspiration baby  \\nThat's why I'm standing here  \\nSinging and opening my arms to you  \\nI want to say child, why don't you  \\n  \\nTake my hand,  \\nOh we'll live and love forever  \\nTake my hand,  \\nOoh we'll be alone you and me  \\nTake my hand  \\nGirl we'll live our lives together  \\nYeah together  \\n  \\nJust to be close to you, girl  \\nJust for the moment baby,  \\nWell just for an hour  \\nJust to be close to you, girl  \\nI need you baby  \\n  \\nTo make love, to be loved by you baby  \\nTo have your warm body close to mine  \\nTo whisper words that make you feel like a woman  \\nGirl I know our love will stand the test of time  \\n  \\nJust to be close to you girl  \\nFor the moment baby (for the moment baby, for the moment baby)  \\nFor the sugar sugar yeah yeah yeah yeah yeah yeah yeah  \\n  \\nJust to be close to you girl  \\nJust for the moment\\n\\n\""
      ]
     },
     "execution_count": 37,
     "metadata": {},
     "output_type": "execute_result"
    }
   ],
   "source": [
    "ab['text'][0]"
   ]
  },
  {
   "cell_type": "code",
   "execution_count": 38,
   "id": "ceb8fc43",
   "metadata": {},
   "outputs": [],
   "source": [
    "ab['text'] = ab['text'].str.lower().replace(r'[^\\w\\s]','').replace(r'\\n',' ',regex=True)"
   ]
  },
  {
   "cell_type": "code",
   "execution_count": 39,
   "id": "4a004d47",
   "metadata": {},
   "outputs": [
    {
     "data": {
      "text/plain": [
       "\"just to be close to you, girl   just for a moment, well,   just for an hour   just to be close to you girl      i was a lonely man   a man with no direction   with no purpose   with no one to love   and no one to love me, for me      oh girl then you came into my life   you made my jagged edges smooth   you made my direction so clear   and you oh women you became my purpose   my reason for living girl you see      you're my heart, you're my soul   you're my strong inspiration baby   that's why i'm standing here   singing and opening my arms to you   i want to say child, why don't you      take my hand,   oh we'll live and love forever   take my hand,   ooh we'll be alone you and me   take my hand   girl we'll live our lives together   yeah together      just to be close to you, girl   just for the moment baby,   well just for an hour   just to be close to you, girl   i need you baby      to make love, to be loved by you baby   to have your warm body close to mine   to whisper words that make you feel like a woman   girl i know our love will stand the test of time      just to be close to you girl   for the moment baby (for the moment baby, for the moment baby)   for the sugar sugar yeah yeah yeah yeah yeah yeah yeah      just to be close to you girl   just for the moment  \""
      ]
     },
     "execution_count": 39,
     "metadata": {},
     "output_type": "execute_result"
    }
   ],
   "source": [
    "ab['text'][0]"
   ]
  },
  {
   "cell_type": "code",
   "execution_count": 40,
   "id": "76f238e6",
   "metadata": {},
   "outputs": [],
   "source": [
    "import nltk\n",
    "from nltk.stem.porter import PorterStemmer\n",
    "\n",
    "ps = PorterStemmer()\n",
    "\n",
    "def tokenization(txt):\n",
    "    tokens = nltk.word_tokenize(txt)\n",
    "    stemming = [ps.stem(w) for w in tokens]\n",
    "\n",
    "    return \" \".join(stemming)\n"
   ]
  },
  {
   "cell_type": "code",
   "execution_count": 41,
   "id": "fb4a3475",
   "metadata": {},
   "outputs": [],
   "source": [
    "ab['text'] = ab['text'].apply(lambda x: tokenization(x))"
   ]
  },
  {
   "cell_type": "code",
   "execution_count": 66,
   "id": "e50b003b",
   "metadata": {},
   "outputs": [
    {
     "name": "stdout",
     "output_type": "stream",
     "text": [
      "just to be close to you , girl just for a moment , well , just for an hour just to be close to you girl i wa a lone man a man with no direct with no purpos with no one to love and no one to love me , for me oh girl then you came into my life you made my jag edg smooth you made my direct so clear and you oh women you becam my purpos my reason for live girl you see you 're my heart , you 're my soul you 're my strong inspir babi that 's whi i 'm stand here sing and open my arm to you i want to say child , whi do n't you take my hand , oh we 'll live and love forev take my hand , ooh we 'll be alon you and me take my hand girl we 'll live our live togeth yeah togeth just to be close to you , girl just for the moment babi , well just for an hour just to be close to you , girl i need you babi to make love , to be love by you babi to have your warm bodi close to mine to whisper word that make you feel like a woman girl i know our love will stand the test of time just to be close to you girl for the moment babi ( for the moment babi , for the moment babi ) for the sugar sugar yeah yeah yeah yeah yeah yeah yeah just to be close to you girl just for the moment\n"
     ]
    }
   ],
   "source": [
    "print(ab['text'][0])"
   ]
  },
  {
   "cell_type": "code",
   "execution_count": 67,
   "id": "85519cf4",
   "metadata": {},
   "outputs": [],
   "source": [
    "from sklearn.feature_extraction.text import TfidfVectorizer\n",
    "from sklearn.metrics.pairwise import cosine_similarity"
   ]
  },
  {
   "cell_type": "code",
   "execution_count": 68,
   "id": "4f14adb8",
   "metadata": {},
   "outputs": [],
   "source": [
    "tfid = TfidfVectorizer(stop_words='english')\n",
    "matrix = tfid.fit_transform(ab['text'])"
   ]
  },
  {
   "cell_type": "code",
   "execution_count": 69,
   "id": "f02b0f00",
   "metadata": {},
   "outputs": [
    {
     "name": "stdout",
     "output_type": "stream",
     "text": [
      "(5000, 17428)\n"
     ]
    }
   ],
   "source": [
    "print(matrix.shape)"
   ]
  },
  {
   "cell_type": "code",
   "execution_count": 70,
   "id": "82836987",
   "metadata": {},
   "outputs": [],
   "source": [
    "similarity = cosine_similarity(matrix)"
   ]
  },
  {
   "cell_type": "code",
   "execution_count": 71,
   "id": "f7caccac",
   "metadata": {},
   "outputs": [
    {
     "name": "stdout",
     "output_type": "stream",
     "text": [
      "[1.         0.03777934 0.01980426 ... 0.03454913 0.0683479  0.06961186]\n"
     ]
    }
   ],
   "source": [
    "print(similarity[0])"
   ]
  },
  {
   "cell_type": "code",
   "execution_count": 72,
   "id": "c634ef9c",
   "metadata": {},
   "outputs": [
    {
     "name": "stdout",
     "output_type": "stream",
     "text": [
      "Without Love\n"
     ]
    }
   ],
   "source": [
    "print(ab['song'][3])"
   ]
  },
  {
   "cell_type": "code",
   "execution_count": 73,
   "id": "4b3da091",
   "metadata": {},
   "outputs": [],
   "source": [
    "song_name = ab['song']"
   ]
  },
  {
   "cell_type": "code",
   "execution_count": 74,
   "id": "f3e666ed",
   "metadata": {},
   "outputs": [],
   "source": [
    "def recommendation(song):\n",
    "    idx = ab[ab['song'] == song].index[0]\n",
    "    distances = sorted(list(enumerate(similarity[idx])), reverse=True,\n",
    "                       key=lambda x: x[1])  ### 1st number song have similarity with its own and others...\n",
    "\n",
    "    songs = []\n",
    "    for i in distances[1:21]:\n",
    "        songs.append(ab.iloc[i[0]].song)\n",
    "\n",
    "    return songs"
   ]
  },
  {
   "cell_type": "code",
   "execution_count": 75,
   "id": "df0ffe7f",
   "metadata": {},
   "outputs": [
    {
     "name": "stdout",
     "output_type": "stream",
     "text": [
      "--------------------\n"
     ]
    },
    {
     "data": {
      "text/plain": [
       "['No More Looking For Love',\n",
       " 'Nothing To Lose',\n",
       " 'All You Need Is Love',\n",
       " 'Show Me A Smile',\n",
       " 'Glorious',\n",
       " 'Only Your Love',\n",
       " 'Rhythm Of Love',\n",
       " 'Nothing Goes Up (Without Coming Down)',\n",
       " 'Nothing',\n",
       " 'Love Me Now',\n",
       " 'Looking Back On Love',\n",
       " 'Love Conquers All',\n",
       " 'Both Sides Of Goodbye',\n",
       " 'Heart Like A Wheel',\n",
       " 'Love You Like I Do',\n",
       " 'I Love, You Love',\n",
       " \"I've Got Love On My Mind\",\n",
       " 'Nights In White Satin',\n",
       " 'In It For Love',\n",
       " 'Love Is']"
      ]
     },
     "execution_count": 75,
     "metadata": {},
     "output_type": "execute_result"
    }
   ],
   "source": [
    "re = recommendation('Without Love')\n",
    "\n",
    "print(\"--------------------\")\n",
    "\n",
    "re"
   ]
  },
  {
   "cell_type": "code",
   "execution_count": 76,
   "id": "80f53d47",
   "metadata": {},
   "outputs": [],
   "source": [
    "import pickle\n",
    "\n",
    "with open('ab.pkl', 'wb') as f:\n",
    "    pickle.dump(ab, f)\n",
    "with open('ab.pkl', 'rb') as f:\n",
    "    loaded_model = pickle.load(f)\n",
    "\n",
    "with open('similarity.pkl','wb') as f:\n",
    "    pickle.dump(similarity, f)\n",
    "with open('similarity.pkl', 'rb') as f:\n",
    "    loaded_model = pickle.load(f)\n",
    "\n",
    "with open('song_name.pkl','wb') as f:\n",
    "    pickle.dump(song_name, f)\n",
    "with open('song_name.pkl', 'rb') as f:\n",
    "    loaded_model = pickle.load(f)"
   ]
  },
  {
   "cell_type": "code",
   "execution_count": null,
   "id": "0169a523",
   "metadata": {},
   "outputs": [],
   "source": []
  }
 ],
 "metadata": {
  "kernelspec": {
   "display_name": "Python 3 (ipykernel)",
   "language": "python",
   "name": "python3"
  },
  "language_info": {
   "codemirror_mode": {
    "name": "ipython",
    "version": 3
   },
   "file_extension": ".py",
   "mimetype": "text/x-python",
   "name": "python",
   "nbconvert_exporter": "python",
   "pygments_lexer": "ipython3",
   "version": "3.11.3"
  }
 },
 "nbformat": 4,
 "nbformat_minor": 5
}
